{
 "cells": [
  {
   "cell_type": "markdown",
   "metadata": {},
   "source": [
    "Hypothesis: I think there are currently more psychology majors than neuroscience majors enrolled in COMP110."
   ]
  },
  {
   "cell_type": "markdown",
   "metadata": {},
   "source": [
    "To begin, I will import the csv and convert it to a column-based table."
   ]
  },
  {
   "cell_type": "code",
   "execution_count": 1,
   "metadata": {},
   "outputs": [],
   "source": [
    "from data_utils import read_csv_rows, columnar\n",
    "\n",
    "data_rows: list[dict[str, str]] = read_csv_rows('../../data/survey.csv')\n",
    "columns: dict[str, list[str]] = columnar(data_rows)\n",
    "%reload_ext autoreload\n",
    "%autoreload 2"
   ]
  },
  {
   "cell_type": "markdown",
   "metadata": {},
   "source": [
    "Next, I will select the primary major column and show the first 15 rows."
   ]
  },
  {
   "cell_type": "code",
   "execution_count": 2,
   "metadata": {},
   "outputs": [
    {
     "data": {
      "text/plain": [
       "{'primary_major': ['Advertising and Public Relations',\n",
       "  'Anthropology',\n",
       "  'Biology',\n",
       "  'Biology',\n",
       "  'Biology',\n",
       "  'Biology',\n",
       "  'Biology',\n",
       "  'Biology',\n",
       "  'Biology',\n",
       "  'Biology',\n",
       "  'Biology',\n",
       "  'Biology',\n",
       "  'Biology',\n",
       "  'Biology',\n",
       "  'Biology']}"
      ]
     },
     "execution_count": 2,
     "metadata": {},
     "output_type": "execute_result"
    }
   ],
   "source": [
    "from data_utils import head, select\n",
    "focus: dict[str, list[str]] = select(columns, [\"primary_major\"])\n",
    "head(focus, 15)"
   ]
  },
  {
   "cell_type": "markdown",
   "metadata": {},
   "source": [
    "Next, I will count up the total number of psychology majors and neuroscience majors."
   ]
  },
  {
   "cell_type": "code",
   "execution_count": 3,
   "metadata": {},
   "outputs": [
    {
     "name": "stdout",
     "output_type": "stream",
     "text": [
      "The total number of psychology majors currently in COMP110 is: 37 \n",
      "The total number of neuroscience majors currently in COMP110 is: 32 \n"
     ]
    }
   ],
   "source": [
    "from data_utils import count\n",
    "totals = count(focus[\"primary_major\"])\n",
    "\n",
    "print(f\"The total number of psychology majors currently in COMP110 is: {totals['Psychology']} \")\n",
    "print(f\"The total number of neuroscience majors currently in COMP110 is: {totals['Neuroscience']} \")"
   ]
  },
  {
   "cell_type": "markdown",
   "metadata": {},
   "source": [
    "Conclusion: In conclusion, my hypothesis was correct- there are currently more psychology majors than neuroscience majors enrolled in COMP110. This could be due to the fact that while COMP110 is an option to fulfill major requirements for both psychology and neuroscience, it is more prominently displayed as an option on the UNC psychology major planning worksheet than on the UNC neuroscience major planning worksheet."
   ]
  }
 ],
 "metadata": {
  "interpreter": {
   "hash": "4ed757fc640ab393e8df9c402ab48a8948481d4bca5c7ca90af6e0eae40c37a4"
  },
  "kernelspec": {
   "display_name": "Python 3.9.6 64-bit",
   "name": "python3"
  },
  "language_info": {
   "codemirror_mode": {
    "name": "ipython",
    "version": 3
   },
   "file_extension": ".py",
   "mimetype": "text/x-python",
   "name": "python",
   "nbconvert_exporter": "python",
   "pygments_lexer": "ipython3",
   "version": "3.9.6"
  },
  "orig_nbformat": 4
 },
 "nbformat": 4,
 "nbformat_minor": 2
}
